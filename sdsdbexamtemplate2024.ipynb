{
  "cells": [
    {
      "cell_type": "markdown",
      "metadata": {
        "id": "view-in-github",
        "colab_type": "text"
      },
      "source": [
        "<a href=\"https://colab.research.google.com/github/Fabeor/Fabeor/blob/main/sdsdbexamtemplate2024.ipynb\" target=\"_parent\"><img src=\"https://colab.research.google.com/assets/colab-badge.svg\" alt=\"Open In Colab\"/></a>"
      ]
    },
    {
      "cell_type": "markdown",
      "id": "87a85ab9",
      "metadata": {
        "id": "87a85ab9"
      },
      "source": [
        "# SDS Exam Template"
      ]
    },
    {
      "cell_type": "markdown",
      "id": "72db5e5a",
      "metadata": {
        "id": "72db5e5a"
      },
      "source": [
        "- Open in Colab using the button below\n",
        "- Save a copy in Drive\n",
        "- Share to salvatore.nicotra@unimib.it\n",
        "\n",
        "[![Open In Colab](https://colab.research.google.com/assets/colab-badge.svg)](https://colab.research.google.com/github/nicshub/sdsdbms/blob/master/sdsdbexamtemplate2024.ipynb)\n"
      ]
    },
    {
      "cell_type": "markdown",
      "id": "6ef09117",
      "metadata": {
        "id": "6ef09117"
      },
      "source": [
        "## Colab Setup\n",
        "- Install OS Packages SQLite, Graphviz\n",
        "- Install Python Packages\n",
        "- Load IPython Magic"
      ]
    },
    {
      "cell_type": "code",
      "execution_count": null,
      "id": "aSUr5vnErn77",
      "metadata": {
        "id": "aSUr5vnErn77"
      },
      "outputs": [],
      "source": [
        "!apt-get -y install sqlite3 graphviz\n",
        "!pip install ipython-sql schemadisplay-magic\n",
        "%load_ext sql\n",
        "%load_ext schemadisplay_magic"
      ]
    },
    {
      "cell_type": "markdown",
      "id": "389dbb73",
      "metadata": {
        "id": "389dbb73"
      },
      "source": [
        "## Goal\n",
        "*Describe the database, should have at least two entity with one relation*"
      ]
    },
    {
      "cell_type": "markdown",
      "id": "57c2fe13",
      "metadata": {
        "id": "57c2fe13"
      },
      "source": [
        "Lorem ipsum dolor sit amet, consectetur adipisci elit, sed do eiusmod tempor incidunt ut labore et dolore magna aliqua. Ut enim ad minim veniam, quis nostrum exercitationem ullamco laboriosam, nisi ut aliquid ex ea commodi consequatur. Duis aute irure reprehenderit in voluptate velit esse cillum dolore eu fugiat nulla pariatur. Excepteur sint obcaecat cupiditat non proident, sunt in culpa qui officia deserunt mollit anim id est laborum."
      ]
    },
    {
      "cell_type": "markdown",
      "id": "e5eb73fe",
      "metadata": {
        "id": "e5eb73fe"
      },
      "source": [
        "# Conceptual Model"
      ]
    },
    {
      "cell_type": "markdown",
      "id": "72c8b64a",
      "metadata": {
        "id": "72c8b64a"
      },
      "source": [
        "Using an ER Diagram in draw.io to sketch the diagram\n",
        "\n",
        "Using File -> Embed -> Image copy the HTML code and paste in a Markdown Cell"
      ]
    },
    {
      "cell_type": "markdown",
      "id": "816f1359",
      "metadata": {
        "id": "816f1359"
      },
      "source": []
    },
    {
      "cell_type": "markdown",
      "id": "74646b04",
      "metadata": {
        "id": "74646b04"
      },
      "source": [
        "# Logical Model"
      ]
    },
    {
      "cell_type": "markdown",
      "id": "52e5158d",
      "metadata": {
        "id": "52e5158d"
      },
      "source": [
        "Using an ER Diagram with Relational Model in draw.io to sketch the diagram\n",
        "\n",
        "Using File -> Embed -> Image copy the HTML code and paste in a Markdown Cell"
      ]
    },
    {
      "cell_type": "markdown",
      "id": "12905894",
      "metadata": {
        "id": "12905894"
      },
      "source": []
    },
    {
      "cell_type": "markdown",
      "id": "698f4a7a",
      "metadata": {
        "id": "698f4a7a"
      },
      "source": [
        "# Database Schema"
      ]
    },
    {
      "cell_type": "code",
      "execution_count": null,
      "id": "ab692554",
      "metadata": {
        "id": "ab692554"
      },
      "outputs": [],
      "source": [
        "# Connect to the DB\n",
        "%sql sqlite:///exam.db"
      ]
    },
    {
      "cell_type": "markdown",
      "id": "595e1d6f",
      "metadata": {
        "id": "595e1d6f"
      },
      "source": [
        "Add CREATE Table"
      ]
    },
    {
      "cell_type": "code",
      "execution_count": null,
      "id": "4c303917",
      "metadata": {
        "id": "4c303917"
      },
      "outputs": [],
      "source": [
        "%sql"
      ]
    },
    {
      "cell_type": "markdown",
      "id": "968208ab",
      "metadata": {
        "id": "968208ab"
      },
      "source": [
        "## Display Physical Schema"
      ]
    },
    {
      "cell_type": "code",
      "execution_count": null,
      "id": "a96f818f",
      "metadata": {
        "id": "a96f818f"
      },
      "outputs": [],
      "source": [
        "%schema --connection_string sqlite:///exam.db"
      ]
    },
    {
      "cell_type": "markdown",
      "id": "bfa46c34",
      "metadata": {
        "id": "bfa46c34"
      },
      "source": [
        "## Insert data\n",
        "*Insert some data in tables, optionally add some update or delete*"
      ]
    },
    {
      "cell_type": "code",
      "execution_count": null,
      "id": "5b6a56ac",
      "metadata": {
        "id": "5b6a56ac"
      },
      "outputs": [],
      "source": [
        "%%sql"
      ]
    },
    {
      "cell_type": "markdown",
      "id": "09c8d2de",
      "metadata": {
        "id": "09c8d2de"
      },
      "source": [
        "# Query\n",
        "- Add at least 3 queries, remember it's information derived from data"
      ]
    },
    {
      "cell_type": "markdown",
      "id": "6e426c78",
      "metadata": {
        "id": "6e426c78"
      },
      "source": [
        "## Query 1: xxx"
      ]
    },
    {
      "cell_type": "code",
      "execution_count": null,
      "id": "cc08f430",
      "metadata": {
        "id": "cc08f430"
      },
      "outputs": [],
      "source": [
        "%%sql\n"
      ]
    },
    {
      "cell_type": "markdown",
      "id": "2e4a37f6",
      "metadata": {
        "id": "2e4a37f6"
      },
      "source": [
        "## Close connection"
      ]
    },
    {
      "cell_type": "code",
      "execution_count": null,
      "id": "xuRawWL5o_MQ",
      "metadata": {
        "id": "xuRawWL5o_MQ"
      },
      "outputs": [],
      "source": [
        "%sql -x sqlite:///exam.db"
      ]
    }
  ],
  "metadata": {
    "celltoolbar": "Slideshow",
    "colab": {
      "provenance": [],
      "include_colab_link": true
    },
    "kernelspec": {
      "display_name": "Python 3 (ipykernel)",
      "language": "python",
      "name": "python3"
    },
    "language_info": {
      "codemirror_mode": {
        "name": "ipython",
        "version": 3
      },
      "file_extension": ".py",
      "mimetype": "text/x-python",
      "name": "python",
      "nbconvert_exporter": "python",
      "pygments_lexer": "ipython3",
      "version": "3.9.15"
    },
    "rise": {
      "autolaunch": true,
      "enable_chalkboard": "true",
      "footer": "<div class=\"sds-footer\"> *** Social Data Science (SDS) - Notions of Database Management Systems ***</div>",
      "header": "<div class=\"sds-header\"><div class=\"sds-header-image\"></div></div>",
      "scroll": true,
      "theme": "white"
    }
  },
  "nbformat": 4,
  "nbformat_minor": 5
}